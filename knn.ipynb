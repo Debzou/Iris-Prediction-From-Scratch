{
 "cells": [
  {
   "cell_type": "markdown",
   "metadata": {},
   "source": [
    "### Make Predictions with k-nearest neighbors on the Iris Flowers Dataset"
   ]
  },
  {
   "cell_type": "code",
   "execution_count": 150,
   "metadata": {},
   "outputs": [],
   "source": [
    "# Import library for the project\n",
    "from csv import reader\n",
    "from math import sqrt\n",
    "import random"
   ]
  },
  {
   "cell_type": "markdown",
   "metadata": {},
   "source": [
    "Open and load the csv"
   ]
  },
  {
   "cell_type": "code",
   "execution_count": 151,
   "metadata": {},
   "outputs": [],
   "source": [
    "# Load a CSV file\n",
    "def load_csv(filename):\n",
    "    dataset = list()\n",
    "    with open(filename, 'r') as file:\n",
    "        csv_reader = reader(file)\n",
    "        for row in csv_reader:\n",
    "            if not row:\n",
    "                continue\n",
    "            dataset.append(row)\n",
    "    return dataset"
   ]
  },
  {
   "source": [
    "I split in 2 part the dataset (randomly), the first part is the training data and the second part will be use for the validation model"
   ],
   "cell_type": "markdown",
   "metadata": {}
  },
  {
   "cell_type": "code",
   "execution_count": 152,
   "metadata": {},
   "outputs": [],
   "source": [
    "# split in 2 the dataset \n",
    "def splitcsv(dataset):\n",
    "    validation_data = []\n",
    "    trainning_data = []\n",
    "    for i in range(0,len(dataset)):\n",
    "        rd = random.choice([True, False])\n",
    "        if rd:\n",
    "            trainning_data.append(dataset[i]) \n",
    "        else:\n",
    "            validation_data.append(dataset[i])\n",
    "    return trainning_data, validation_data\n",
    "\n",
    "    "
   ]
  },
  {
   "cell_type": "markdown",
   "metadata": {},
   "source": [
    "Define function from scratch :\n",
    "\n",
    "-Convert string column to float\n",
    "\n",
    "-Convert string column to integer\n",
    "\n",
    "-Find the min and max values for each column\n",
    "\n",
    "-Rescale dataset columns to the range 0-1 (normalization)\n",
    "\n",
    "-Calculate the Euclidean distance between two vectors\n",
    "\n",
    "-Locate the most similar neighbors"
   ]
  },
  {
   "cell_type": "code",
   "execution_count": 153,
   "metadata": {},
   "outputs": [],
   "source": [
    "def convert_str_column_to_float(dataset, column):\n",
    "    for row in dataset:\n",
    "        row[column] = float(row[column].strip())\n",
    "\n",
    "def str_column_to_int(dataset, column):\n",
    "    class_values = [row[column] for row in dataset]\n",
    "    unique = set(class_values)\n",
    "    lookup = dict()\n",
    "    for i, value in enumerate(unique):\n",
    "        lookup[value] = i\n",
    "        # print('[%s] => %d' % (value, i))\n",
    "    for row in dataset:\n",
    "        row[column] = lookup[row[column]]\n",
    "    return lookup\n",
    "\n",
    "def dataset_minmax(dataset):\n",
    "    minmax = list()\n",
    "    for i in range(len(dataset[0])):\n",
    "        col_values = [row[i] for row in dataset]\n",
    "        value_min = min(col_values)\n",
    "        value_max = max(col_values)\n",
    "        minmax.append([value_min, value_max])\n",
    "    return minmax\n",
    "\n",
    "def normalize_dataset(dataset, minmax):\n",
    "    for row in dataset:\n",
    "        for i in range(len(row)):\n",
    "            row[i] = (row[i] - minmax[i][0]) / (minmax[i][1] - minmax[i][0])\n",
    "\n",
    "def distance_euclid(row1, row2):\n",
    "    distance = 0.0\n",
    "    for i in range(len(row1)-1):\n",
    "        distance += (row1[i] - row2[i])**2\n",
    "    return sqrt(distance)\n",
    "\n",
    "def find_neighbors(train, test_row, num_neighbors):\n",
    "    distances = list()\n",
    "    for train_row in train:\n",
    "        dist = distance_euclid(test_row, train_row)\n",
    "        distances.append((train_row, dist))\n",
    "    distances.sort(key=lambda tup: tup[1])\n",
    "    neighbors = list()\n",
    "    for i in range(num_neighbors):\n",
    "        neighbors.append(distances[i][0])\n",
    "    return neighbors"
   ]
  },
  {
   "cell_type": "markdown",
   "metadata": {},
   "source": [
    "Prediction\n",
    "Make a prediction with neighbors"
   ]
  },
  {
   "cell_type": "code",
   "execution_count": 154,
   "metadata": {},
   "outputs": [],
   "source": [
    "def prediction(train, test_row, num_neighbors):\n",
    "    neighbors = find_neighbors(train, test_row, num_neighbors)\n",
    "    output_values = [row[-1] for row in neighbors]\n",
    "    prediction = max(set(output_values), key=output_values.count)\n",
    "    return prediction"
   ]
  },
  {
   "cell_type": "markdown",
   "metadata": {},
   "source": [
    "Make a prediction with KNN on Iris Dataset prediction \n",
    "\n",
    "class 0 is Iris-setosa\n",
    "\n",
    "class 1 is Iris-versicolor\n",
    "\n",
    "class 2 is Iris-virginica"
   ]
  },
  {
   "cell_type": "code",
   "execution_count": 155,
   "metadata": {},
   "outputs": [
    {
     "output_type": "stream",
     "name": "stdout",
     "text": [
      "there are 56 true over 82 prediction \nCLASS 0 , there are 21 true over 29 prediction \nCLASS 1 , there are 24 true over 25 prediction \nCLASS 2 , there are 11 true over 28 prediction \nPourcentage CLASS 0 ==> 0.7241379310344828\nPourcentage CLASS 1 ==> 0.96\nPourcentage CLASS 2 ==> 0.39285714285714285\nPourcentage TOTAL ==> 0.6829268292682927\n"
     ]
    }
   ],
   "source": [
    "filename = 'iris.csv'\n",
    "dataset = load_csv(filename)\n",
    "dataset_train, dataset_validation = splitcsv(dataset)\n",
    "for i in range(len(dataset_train[0])-1):\n",
    "\tconvert_str_column_to_float(dataset_train, i)\n",
    "for i in range(len(dataset_validation[0])-1):\n",
    "\tconvert_str_column_to_float(dataset_validation, i)\n",
    "# convert class column to integers\n",
    "str_column_to_int(dataset_train, len(dataset_train[0])-1)\n",
    "str_column_to_int(dataset_validation, len(dataset_validation[0])-1)\n",
    "# define model parameter\n",
    "num_neighbors = 5\n",
    "# define the value for check the ratio of true positive by class\n",
    "count_true = 0\n",
    "count_true_1 =0\n",
    "total_1 = 0\n",
    "count_true_2 = 0\n",
    "total_2 = 0\n",
    "count_true_3 = 0\n",
    "total_3 = 0\n",
    "# predict the label\n",
    "for j in range(0,len(dataset_validation)):\n",
    "\tlabel = 0\n",
    "\tlabel = prediction(dataset_train, dataset_validation[j][0:3], num_neighbors)\n",
    "\t# precision\n",
    "\tif dataset_validation[j][4] == 0:\n",
    "\t\t\ttotal_1 = total_1 + 1\n",
    "\tif dataset_validation[j][4] == 1:\n",
    "\t\t\ttotal_2 = total_2 + 1\n",
    "\tif dataset_validation[j][4] == 2:\n",
    "\t\t\ttotal_3 = total_3 + 1\n",
    "\t# validation \n",
    "\tif dataset_validation[j][4] == label:\n",
    "\t\tcount_true = count_true + 1\n",
    "\t\tif label == 0:\n",
    "\t\t\tcount_true_1 = count_true_1 + 1\n",
    "\t\telif label == 1:\n",
    "\t\t\tcount_true_2 = count_true_2 + 1\n",
    "\t\telif label == 2:\n",
    "\t\t\tcount_true_3 = count_true_3 + 1\n",
    "\t# print('Data=%s, Predicted: %s' % (dataset_validation[j], label))\n",
    "pourcentage_tot = count_true/len(dataset_validation)\n",
    "pourcentage_1 = count_true_1/total_1\n",
    "pourcentage_2 = count_true_2/total_2\n",
    "pourcentage_3 = count_true_3/total_3\n",
    "print('there are %d true over %d prediction ' % (count_true,len(dataset_validation)))\n",
    "print('CLASS 0 , there are %s true over %s prediction ' % (count_true_1,total_1))\n",
    "print('CLASS 1 , there are %s true over %s prediction ' % (count_true_2,total_2))\n",
    "print('CLASS 2 , there are %s true over %s prediction ' % (count_true_3,total_3))\n",
    "print('Pourcentage CLASS 0 ==> %s' % (pourcentage_1 ))\n",
    "print('Pourcentage CLASS 1 ==> %s' % (pourcentage_2 ))\n",
    "print('Pourcentage CLASS 2 ==> %s' % (pourcentage_3 ))\n",
    "print('Pourcentage TOTAL ==> %s' % (pourcentage_tot ))"
   ]
  },
  {
   "cell_type": "code",
   "execution_count": null,
   "metadata": {},
   "outputs": [],
   "source": []
  },
  {
   "cell_type": "code",
   "execution_count": null,
   "metadata": {},
   "outputs": [],
   "source": []
  }
 ],
 "metadata": {
  "kernelspec": {
   "name": "python3",
   "display_name": "Python 3.9.0 64-bit",
   "metadata": {
    "interpreter": {
     "hash": "d65f8af9b1347936d5c0a715a1a101b7602968bee42a1bc2161adfc924f1cbb0"
    }
   }
  },
  "language_info": {
   "codemirror_mode": {
    "name": "ipython",
    "version": 3
   },
   "file_extension": ".py",
   "mimetype": "text/x-python",
   "name": "python",
   "nbconvert_exporter": "python",
   "pygments_lexer": "ipython3",
   "version": "3.9.0-final"
  }
 },
 "nbformat": 4,
 "nbformat_minor": 4
}