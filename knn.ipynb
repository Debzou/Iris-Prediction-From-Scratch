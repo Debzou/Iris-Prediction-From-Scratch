{
 "cells": [
  {
   "cell_type": "markdown",
   "metadata": {},
   "source": [
    "### Make Predictions with k-nearest neighbors on the Iris Flowers Dataset"
   ]
  },
  {
   "cell_type": "code",
   "execution_count": 420,
   "metadata": {},
   "outputs": [],
   "source": [
    "# Import library for the project\n",
    "from csv import reader\n",
    "from math import sqrt\n",
    "import random"
   ]
  },
  {
   "cell_type": "markdown",
   "metadata": {},
   "source": [
    "Open and load the csv"
   ]
  },
  {
   "cell_type": "code",
   "execution_count": 421,
   "metadata": {},
   "outputs": [],
   "source": [
    "# Load a CSV file\n",
    "def load_csv(filename):\n",
    "    dataset = list()\n",
    "    with open(filename, 'r') as file:\n",
    "        csv_reader = reader(file)\n",
    "        for row in csv_reader:\n",
    "            if not row:\n",
    "                continue\n",
    "            dataset.append(row)\n",
    "    return dataset"
   ]
  },
  {
   "source": [
    "I split in 2 part the dataset (randomly), the first part is the training data and the second part will be use for the validation model\n",
    "I will use cross validation in order to compare the diffrence"
   ],
   "cell_type": "markdown",
   "metadata": {}
  },
  {
   "cell_type": "code",
   "execution_count": 422,
   "metadata": {},
   "outputs": [],
   "source": [
    "# split in 2 the dataset \n",
    "def splitcsv(dataset):\n",
    "    validation_data = []\n",
    "    trainning_data = []\n",
    "    for i in range(0,len(dataset)):\n",
    "        rd = random.choice([True, False])\n",
    "        if rd:\n",
    "            trainning_data.append(dataset[i]) \n",
    "        else:\n",
    "            validation_data.append(dataset[i])\n",
    "    return trainning_data, validation_data\n",
    "\n",
    "    "
   ]
  },
  {
   "cell_type": "markdown",
   "metadata": {},
   "source": [
    "Define function from scratch :\n",
    "\n",
    "-Convert string column to float\n",
    "\n",
    "-Convert string column to integer\n",
    "\n",
    "-Find the min and max values for each column\n",
    "\n",
    "-Rescale dataset columns to the range 0-1 (normalization)\n",
    "\n",
    "-Calculate the Euclidean distance between two vectors\n",
    "\n",
    "-Locate the most similar neighbors"
   ]
  },
  {
   "cell_type": "code",
   "execution_count": 423,
   "metadata": {},
   "outputs": [],
   "source": [
    "def convert_str_column_to_float(dataset, column):\n",
    "    for row in dataset:\n",
    "        row[column] = float(row[column].strip())\n",
    "\n",
    "def str_column_to_int(dataset, column):\n",
    "    class_values = [row[column] for row in dataset]\n",
    "    unique = set(class_values)\n",
    "    lookup = dict()\n",
    "    for i, value in enumerate(unique):\n",
    "        lookup[value] = i\n",
    "        # print('[%s] => %d' % (value, i))\n",
    "    for row in dataset:\n",
    "        row[column] = lookup[row[column]]\n",
    "    return lookup\n",
    "\n",
    "def dataset_minmax(dataset):\n",
    "    minmax = list()\n",
    "    for i in range(len(dataset[0])):\n",
    "        col_values = [row[i] for row in dataset]\n",
    "        value_min = min(col_values)\n",
    "        value_max = max(col_values)\n",
    "        minmax.append([value_min, value_max])\n",
    "    return minmax\n",
    "\n",
    "def normalize_dataset(dataset, minmax):\n",
    "    for row in dataset:\n",
    "        for i in range(len(row)):\n",
    "            row[i] = (row[i] - minmax[i][0]) / (minmax[i][1] - minmax[i][0])\n",
    "\n",
    "def distance_euclid(row1, row2):\n",
    "    distance = 0.0\n",
    "    for i in range(len(row1)-1):\n",
    "        distance += (row1[i] - row2[i])**2\n",
    "    return sqrt(distance)\n",
    "\n",
    "def find_neighbors(train, test_row, num_neighbors):\n",
    "    distances = list()\n",
    "    for train_row in train:\n",
    "        dist = distance_euclid(test_row, train_row)\n",
    "        distances.append((train_row, dist))\n",
    "    distances.sort(key=lambda tup: tup[1])\n",
    "    neighbors = list()\n",
    "    for i in range(num_neighbors):\n",
    "        neighbors.append(distances[i][0])\n",
    "    return neighbors"
   ]
  },
  {
   "cell_type": "markdown",
   "metadata": {},
   "source": [
    "Prediction\n",
    "Make a prediction with neighbors"
   ]
  },
  {
   "cell_type": "code",
   "execution_count": 424,
   "metadata": {},
   "outputs": [],
   "source": [
    "def prediction(train, test_row, num_neighbors):\n",
    "    neighbors = find_neighbors(train, test_row, num_neighbors)\n",
    "    output_values = [row[-1] for row in neighbors]\n",
    "    prediction = max(set(output_values), key=output_values.count)\n",
    "    return prediction"
   ]
  },
  {
   "source": [
    "Cross validation "
   ],
   "cell_type": "markdown",
   "metadata": {}
  },
  {
   "cell_type": "code",
   "execution_count": 425,
   "metadata": {},
   "outputs": [],
   "source": [
    "def cross_validation(dataset,k):\n",
    "    # cross validation\n",
    "    len_dataset = len(dataset)\n",
    "    for i in range(k):\n",
    "        # init dataset for training\n",
    "        # init dataset for testing\n",
    "        dataset_train = []\n",
    "        dataset_test = []\n",
    "        \n",
    "        # process the split\n",
    "        if i == (k-1):\n",
    "            dataset_test = dataset[int(len_dataset/k)*(i):len_dataset]\n",
    "            dataset_train = dataset[0:int(len_dataset/k)*i-1]\n",
    "\n",
    "            print('K=%d partition n=%d '% (k,i))\n",
    "\n",
    "            print('size of dataset test=%d'% (len(dataset_test)))\n",
    "            print('[%d,%d]'% (int(len_dataset/k)*(i),len_dataset))\n",
    "\n",
    "            print('size of dataset train= %d'% (len(dataset_train)))\n",
    "            # print('[%d,%d]'% (0,int(len_dataset/k)*i-1))\n",
    "            print('---')\n",
    "            \n",
    "        else:\n",
    "            dataset_train = dataset.copy()\n",
    "            dataset_test = dataset[int(len_dataset/k)*i:int(len_dataset/k)*(i+1)]\n",
    "            del dataset_train[int(len_dataset/k)*i:int(len_dataset/k)*(i+1)]\n",
    "           \n",
    "            print('K=%d partition n=%d '% (k,i))\n",
    "\n",
    "            print('size of dataset test=%d'% (len(dataset_test)))\n",
    "            print('[%d,%d]'% (int(len_dataset/k)*i,int(len_dataset/k)*(i+1)))\n",
    "\n",
    "            print('size of dataset train= %d'% (len(dataset_train)))\n",
    "\n",
    "            print('---')\n",
    "            \n",
    "       \n",
    "        # define model parameter\n",
    "        num_neighbors = 4\n",
    "        # define the value for check the ratio of true positive by class\n",
    "        count_true = 0\n",
    "        count_true_1 =0\n",
    "        total_1 = 0\n",
    "        count_true_2 = 0\n",
    "        total_2 = 0\n",
    "        count_true_3 = 0\n",
    "        total_3 = 0\n",
    "        # predict the label\n",
    "        for j in range(0,len(dataset_test)):\n",
    "            label = 0\n",
    "            label = prediction(dataset_train, dataset_test[j][0:3], num_neighbors)\n",
    "            # precision\n",
    "            if dataset_test[j][4] == 0:\n",
    "                    total_1 = total_1 + 1\n",
    "            if dataset_test[j][4] == 1:\n",
    "                    total_2 = total_2 + 1\n",
    "            if dataset_test[j][4] == 2:\n",
    "                    total_3 = total_3 + 1\n",
    "            # validation \n",
    "            if dataset_test[j][4] == label:\n",
    "                count_true = count_true + 1\n",
    "                if label == 0:\n",
    "                    count_true_1 = count_true_1 + 1\n",
    "                elif label == 1:\n",
    "                    count_true_2 = count_true_2 + 1\n",
    "                elif label == 2:\n",
    "                    count_true_3 = count_true_3 + 1\n",
    "            \n",
    "        pourcentage_tot = count_true/len(dataset_test)\n",
    "        pourcentage_1 = count_true_1/total_1\n",
    "        pourcentage_2 = count_true_2/total_2\n",
    "        pourcentage_3 = count_true_3/total_3\n",
    "        print('K=%d partition n=%d'% (k,i))\n",
    "        print('there are %d true over %d prediction ' % (count_true,len(dataset_test)))\n",
    "        print('CLASS 0 , there are %s true over %s prediction ' % (count_true_1,total_1))\n",
    "        print('CLASS 1 , there are %s true over %s prediction ' % (count_true_2,total_2))\n",
    "        print('CLASS 2 , there are %s true over %s prediction ' % (count_true_3,total_3))\n",
    "        print('Pourcentage CLASS 0 ==> %s' % (pourcentage_1 ))\n",
    "        print('Pourcentage CLASS 1 ==> %s' % (pourcentage_2 ))\n",
    "        print('Pourcentage CLASS 2 ==> %s' % (pourcentage_3 ))\n",
    "        print('Pourcentage TOTAL ==> %s' % (pourcentage_tot ))\n",
    "        print('-------------------------------------------------------')\n"
   ]
  },
  {
   "cell_type": "markdown",
   "metadata": {},
   "source": [
    "Make a prediction with KNN on Iris Dataset prediction \n",
    "\n",
    "class 0 is Iris-setosa\n",
    "\n",
    "class 1 is Iris-versicolor\n",
    "\n",
    "class 2 is Iris-virginica"
   ]
  },
  {
   "cell_type": "code",
   "execution_count": 426,
   "metadata": {
    "tags": [
     "outputPrepend"
    ]
   },
   "outputs": [
    {
     "output_type": "stream",
     "name": "stdout",
     "text": [
      "ver 75 prediction \nCLASS 0 , there are 21 true over 25 prediction \nCLASS 1 , there are 27 true over 27 prediction \nCLASS 2 , there are 12 true over 23 prediction \nPourcentage CLASS 0 ==> 0.84\nPourcentage CLASS 1 ==> 1.0\nPourcentage CLASS 2 ==> 0.5217391304347826\nPourcentage TOTAL ==> 0.8\n-------------------------------------------------------\nK=3 partition n=0 \nsize of dataset test=50\n[0,50]\nsize of dataset train= 100\n---\nK=3 partition n=0\nthere are 36 true over 50 prediction \nCLASS 0 , there are 15 true over 17 prediction \nCLASS 1 , there are 12 true over 13 prediction \nCLASS 2 , there are 9 true over 20 prediction \nPourcentage CLASS 0 ==> 0.8823529411764706\nPourcentage CLASS 1 ==> 0.9230769230769231\nPourcentage CLASS 2 ==> 0.45\nPourcentage TOTAL ==> 0.72\n-------------------------------------------------------\nK=3 partition n=1 \nsize of dataset test=50\n[50,100]\nsize of dataset train= 100\n---\nK=3 partition n=1\nthere are 39 true over 50 prediction \nCLASS 0 , there are 11 true over 16 prediction \nCLASS 1 , there are 20 true over 20 prediction \nCLASS 2 , there are 8 true over 14 prediction \nPourcentage CLASS 0 ==> 0.6875\nPourcentage CLASS 1 ==> 1.0\nPourcentage CLASS 2 ==> 0.5714285714285714\nPourcentage TOTAL ==> 0.78\n-------------------------------------------------------\nK=3 partition n=2 \nsize of dataset test=50\n[100,150]\nsize of dataset train= 99\n---\nK=3 partition n=2\nthere are 39 true over 50 prediction \nCLASS 0 , there are 13 true over 17 prediction \nCLASS 1 , there are 17 true over 17 prediction \nCLASS 2 , there are 9 true over 16 prediction \nPourcentage CLASS 0 ==> 0.7647058823529411\nPourcentage CLASS 1 ==> 1.0\nPourcentage CLASS 2 ==> 0.5625\nPourcentage TOTAL ==> 0.78\n-------------------------------------------------------\nK=4 partition n=0 \nsize of dataset test=37\n[0,37]\nsize of dataset train= 113\n---\nK=4 partition n=0\nthere are 26 true over 37 prediction \nCLASS 0 , there are 12 true over 14 prediction \nCLASS 1 , there are 8 true over 9 prediction \nCLASS 2 , there are 6 true over 14 prediction \nPourcentage CLASS 0 ==> 0.8571428571428571\nPourcentage CLASS 1 ==> 0.8888888888888888\nPourcentage CLASS 2 ==> 0.42857142857142855\nPourcentage TOTAL ==> 0.7027027027027027\n-------------------------------------------------------\nK=4 partition n=1 \nsize of dataset test=37\n[37,74]\nsize of dataset train= 113\n---\nK=4 partition n=1\nthere are 30 true over 37 prediction \nCLASS 0 , there are 9 true over 11 prediction \nCLASS 1 , there are 13 true over 13 prediction \nCLASS 2 , there are 8 true over 13 prediction \nPourcentage CLASS 0 ==> 0.8181818181818182\nPourcentage CLASS 1 ==> 1.0\nPourcentage CLASS 2 ==> 0.6153846153846154\nPourcentage TOTAL ==> 0.8108108108108109\n-------------------------------------------------------\nK=4 partition n=2 \nsize of dataset test=37\n[74,111]\nsize of dataset train= 113\n---\nK=4 partition n=2\nthere are 29 true over 37 prediction \nCLASS 0 , there are 12 true over 12 prediction \nCLASS 1 , there are 12 true over 12 prediction \nCLASS 2 , there are 5 true over 13 prediction \nPourcentage CLASS 0 ==> 1.0\nPourcentage CLASS 1 ==> 1.0\nPourcentage CLASS 2 ==> 0.38461538461538464\nPourcentage TOTAL ==> 0.7837837837837838\n-------------------------------------------------------\nK=4 partition n=3 \nsize of dataset test=39\n[111,150]\nsize of dataset train= 110\n---\nK=4 partition n=3\nthere are 31 true over 39 prediction \nCLASS 0 , there are 9 true over 13 prediction \nCLASS 1 , there are 16 true over 16 prediction \nCLASS 2 , there are 6 true over 10 prediction \nPourcentage CLASS 0 ==> 0.6923076923076923\nPourcentage CLASS 1 ==> 1.0\nPourcentage CLASS 2 ==> 0.6\nPourcentage TOTAL ==> 0.7948717948717948\n-------------------------------------------------------\nK=5 partition n=0 \nsize of dataset test=30\n[0,30]\nsize of dataset train= 120\n---\nK=5 partition n=0\nthere are 21 true over 30 prediction \nCLASS 0 , there are 9 true over 11 prediction \nCLASS 1 , there are 7 true over 8 prediction \nCLASS 2 , there are 5 true over 11 prediction \nPourcentage CLASS 0 ==> 0.8181818181818182\nPourcentage CLASS 1 ==> 0.875\nPourcentage CLASS 2 ==> 0.45454545454545453\nPourcentage TOTAL ==> 0.7\n-------------------------------------------------------\nK=5 partition n=1 \nsize of dataset test=30\n[30,60]\nsize of dataset train= 120\n---\nK=5 partition n=1\nthere are 24 true over 30 prediction \nCLASS 0 , there are 9 true over 10 prediction \nCLASS 1 , there are 8 true over 8 prediction \nCLASS 2 , there are 7 true over 12 prediction \nPourcentage CLASS 0 ==> 0.9\nPourcentage CLASS 1 ==> 1.0\nPourcentage CLASS 2 ==> 0.5833333333333334\nPourcentage TOTAL ==> 0.8\n-------------------------------------------------------\nK=5 partition n=2 \nsize of dataset test=30\n[60,90]\nsize of dataset train= 120\n---\nK=5 partition n=2\nthere are 23 true over 30 prediction \nCLASS 0 , there are 7 true over 9 prediction \nCLASS 1 , there are 14 true over 14 prediction \nCLASS 2 , there are 2 true over 7 prediction \nPourcentage CLASS 0 ==> 0.7777777777777778\nPourcentage CLASS 1 ==> 1.0\nPourcentage CLASS 2 ==> 0.2857142857142857\nPourcentage TOTAL ==> 0.7666666666666667\n-------------------------------------------------------\nK=5 partition n=3 \nsize of dataset test=30\n[90,120]\nsize of dataset train= 120\n---\nK=5 partition n=3\nthere are 23 true over 30 prediction \nCLASS 0 , there are 9 true over 9 prediction \nCLASS 1 , there are 7 true over 7 prediction \nCLASS 2 , there are 7 true over 14 prediction \nPourcentage CLASS 0 ==> 1.0\nPourcentage CLASS 1 ==> 1.0\nPourcentage CLASS 2 ==> 0.5\nPourcentage TOTAL ==> 0.7666666666666667\n-------------------------------------------------------\nK=5 partition n=4 \nsize of dataset test=30\n[120,150]\nsize of dataset train= 119\n---\nK=5 partition n=4\nthere are 24 true over 30 prediction \nCLASS 0 , there are 7 true over 11 prediction \nCLASS 1 , there are 13 true over 13 prediction \nCLASS 2 , there are 4 true over 6 prediction \nPourcentage CLASS 0 ==> 0.6363636363636364\nPourcentage CLASS 1 ==> 1.0\nPourcentage CLASS 2 ==> 0.6666666666666666\nPourcentage TOTAL ==> 0.8\n-------------------------------------------------------\nK=6 partition n=0 \nsize of dataset test=25\n[0,25]\nsize of dataset train= 125\n---\nK=6 partition n=0\nthere are 17 true over 25 prediction \nCLASS 0 , there are 7 true over 9 prediction \nCLASS 1 , there are 6 true over 7 prediction \nCLASS 2 , there are 4 true over 9 prediction \nPourcentage CLASS 0 ==> 0.7777777777777778\nPourcentage CLASS 1 ==> 0.8571428571428571\nPourcentage CLASS 2 ==> 0.4444444444444444\nPourcentage TOTAL ==> 0.68\n-------------------------------------------------------\nK=6 partition n=1 \nsize of dataset test=25\n[25,50]\nsize of dataset train= 125\n---\nK=6 partition n=1\nthere are 18 true over 25 prediction \nCLASS 0 , there are 5 true over 8 prediction \nCLASS 1 , there are 6 true over 6 prediction \nCLASS 2 , there are 7 true over 11 prediction \nPourcentage CLASS 0 ==> 0.625\nPourcentage CLASS 1 ==> 1.0\nPourcentage CLASS 2 ==> 0.6363636363636364\nPourcentage TOTAL ==> 0.72\n-------------------------------------------------------\nK=6 partition n=2 \nsize of dataset test=25\n[50,75]\nsize of dataset train= 125\n---\nK=6 partition n=2\nthere are 21 true over 25 prediction \nCLASS 0 , there are 6 true over 8 prediction \nCLASS 1 , there are 10 true over 10 prediction \nCLASS 2 , there are 5 true over 7 prediction \nPourcentage CLASS 0 ==> 0.75\nPourcentage CLASS 1 ==> 1.0\nPourcentage CLASS 2 ==> 0.7142857142857143\nPourcentage TOTAL ==> 0.84\n-------------------------------------------------------\nK=6 partition n=3 \nsize of dataset test=25\n[75,100]\nsize of dataset train= 125\n---\nK=6 partition n=3\nthere are 20 true over 25 prediction \nCLASS 0 , there are 8 true over 8 prediction \nCLASS 1 , there are 10 true over 10 prediction \nCLASS 2 , there are 2 true over 7 prediction \nPourcentage CLASS 0 ==> 1.0\nPourcentage CLASS 1 ==> 1.0\nPourcentage CLASS 2 ==> 0.2857142857142857\nPourcentage TOTAL ==> 0.8\n-------------------------------------------------------\nK=6 partition n=4 \nsize of dataset test=25\n[100,125]\nsize of dataset train= 125\n---\nK=6 partition n=4\nthere are 20 true over 25 prediction \nCLASS 0 , there are 8 true over 8 prediction \nCLASS 1 , there are 6 true over 6 prediction \nCLASS 2 , there are 6 true over 11 prediction \nPourcentage CLASS 0 ==> 1.0\nPourcentage CLASS 1 ==> 1.0\nPourcentage CLASS 2 ==> 0.5454545454545454\nPourcentage TOTAL ==> 0.8\n-------------------------------------------------------\nK=6 partition n=5 \nsize of dataset test=25\n[125,150]\nsize of dataset train= 124\n---\nK=6 partition n=5\nthere are 20 true over 25 prediction \nCLASS 0 , there are 7 true over 9 prediction \nCLASS 1 , there are 11 true over 11 prediction \nCLASS 2 , there are 2 true over 5 prediction \nPourcentage CLASS 0 ==> 0.7777777777777778\nPourcentage CLASS 1 ==> 1.0\nPourcentage CLASS 2 ==> 0.4\nPourcentage TOTAL ==> 0.8\n-------------------------------------------------------\nK=7 partition n=0 \nsize of dataset test=21\n[0,21]\nsize of dataset train= 129\n---\nK=7 partition n=0\nthere are 15 true over 21 prediction \nCLASS 0 , there are 5 true over 5 prediction \nCLASS 1 , there are 6 true over 7 prediction \nCLASS 2 , there are 4 true over 9 prediction \nPourcentage CLASS 0 ==> 1.0\nPourcentage CLASS 1 ==> 0.8571428571428571\nPourcentage CLASS 2 ==> 0.4444444444444444\nPourcentage TOTAL ==> 0.7142857142857143\n-------------------------------------------------------\nK=7 partition n=1 \nsize of dataset test=21\n[21,42]\nsize of dataset train= 129\n---\nK=7 partition n=1\nthere are 16 true over 21 prediction \nCLASS 0 , there are 7 true over 10 prediction \nCLASS 1 , there are 3 true over 3 prediction \nCLASS 2 , there are 6 true over 8 prediction \nPourcentage CLASS 0 ==> 0.7\nPourcentage CLASS 1 ==> 1.0\nPourcentage CLASS 2 ==> 0.75\nPourcentage TOTAL ==> 0.7619047619047619\n-------------------------------------------------------\nK=7 partition n=2 \nsize of dataset test=21\n[42,63]\nsize of dataset train= 129\n---\nK=7 partition n=2\nthere are 17 true over 21 prediction \nCLASS 0 , there are 5 true over 6 prediction \nCLASS 1 , there are 8 true over 8 prediction \nCLASS 2 , there are 4 true over 7 prediction \nPourcentage CLASS 0 ==> 0.8333333333333334\nPourcentage CLASS 1 ==> 1.0\nPourcentage CLASS 2 ==> 0.5714285714285714\nPourcentage TOTAL ==> 0.8095238095238095\n-------------------------------------------------------\nK=7 partition n=3 \nsize of dataset test=21\n[63,84]\nsize of dataset train= 129\n---\nK=7 partition n=3\nthere are 16 true over 21 prediction \nCLASS 0 , there are 6 true over 7 prediction \nCLASS 1 , there are 9 true over 9 prediction \nCLASS 2 , there are 1 true over 5 prediction \nPourcentage CLASS 0 ==> 0.8571428571428571\nPourcentage CLASS 1 ==> 1.0\nPourcentage CLASS 2 ==> 0.2\nPourcentage TOTAL ==> 0.7619047619047619\n-------------------------------------------------------\nK=7 partition n=4 \nsize of dataset test=21\n[84,105]\nsize of dataset train= 129\n---\nK=7 partition n=4\nthere are 18 true over 21 prediction \nCLASS 0 , there are 8 true over 8 prediction \nCLASS 1 , there are 6 true over 6 prediction \nCLASS 2 , there are 4 true over 7 prediction \nPourcentage CLASS 0 ==> 1.0\nPourcentage CLASS 1 ==> 1.0\nPourcentage CLASS 2 ==> 0.5714285714285714\nPourcentage TOTAL ==> 0.8571428571428571\n-------------------------------------------------------\nK=7 partition n=5 \nsize of dataset test=21\n[105,126]\nsize of dataset train= 129\n---\nK=7 partition n=5\nthere are 17 true over 21 prediction \nCLASS 0 , there are 5 true over 5 prediction \nCLASS 1 , there are 7 true over 7 prediction \nCLASS 2 , there are 5 true over 9 prediction \nPourcentage CLASS 0 ==> 1.0\nPourcentage CLASS 1 ==> 1.0\nPourcentage CLASS 2 ==> 0.5555555555555556\nPourcentage TOTAL ==> 0.8095238095238095\n-------------------------------------------------------\nK=7 partition n=6 \nsize of dataset test=24\n[126,150]\nsize of dataset train= 125\n---\nK=7 partition n=6\nthere are 19 true over 24 prediction \nCLASS 0 , there are 7 true over 9 prediction \nCLASS 1 , there are 10 true over 10 prediction \nCLASS 2 , there are 2 true over 5 prediction \nPourcentage CLASS 0 ==> 0.7777777777777778\nPourcentage CLASS 1 ==> 1.0\nPourcentage CLASS 2 ==> 0.4\nPourcentage TOTAL ==> 0.7916666666666666\n-------------------------------------------------------\nK=8 partition n=0 \nsize of dataset test=18\n[0,18]\nsize of dataset train= 132\n---\nK=8 partition n=0\nthere are 12 true over 18 prediction \nCLASS 0 , there are 4 true over 4 prediction \nCLASS 1 , there are 5 true over 6 prediction \nCLASS 2 , there are 3 true over 8 prediction \nPourcentage CLASS 0 ==> 1.0\nPourcentage CLASS 1 ==> 0.8333333333333334\nPourcentage CLASS 2 ==> 0.375\nPourcentage TOTAL ==> 0.6666666666666666\n-------------------------------------------------------\nK=8 partition n=1 \nsize of dataset test=18\n[18,36]\nsize of dataset train= 132\n---\nK=8 partition n=1\nthere are 14 true over 18 prediction \nCLASS 0 , there are 6 true over 10 prediction \nCLASS 1 , there are 3 true over 3 prediction \nCLASS 2 , there are 5 true over 5 prediction \nPourcentage CLASS 0 ==> 0.6\nPourcentage CLASS 1 ==> 1.0\nPourcentage CLASS 2 ==> 1.0\nPourcentage TOTAL ==> 0.7777777777777778\n-------------------------------------------------------\nK=8 partition n=2 \nsize of dataset test=18\n[36,54]\nsize of dataset train= 132\n---\nK=8 partition n=2\nthere are 12 true over 18 prediction \nCLASS 0 , there are 3 true over 5 prediction \nCLASS 1 , there are 5 true over 5 prediction \nCLASS 2 , there are 4 true over 8 prediction \nPourcentage CLASS 0 ==> 0.6\nPourcentage CLASS 1 ==> 1.0\nPourcentage CLASS 2 ==> 0.5\nPourcentage TOTAL ==> 0.6666666666666666\n-------------------------------------------------------\nK=8 partition n=3 \nsize of dataset test=18\n[54,72]\nsize of dataset train= 132\n---\nK=8 partition n=3\nthere are 16 true over 18 prediction \nCLASS 0 , there are 5 true over 6 prediction \nCLASS 1 , there are 7 true over 7 prediction \nCLASS 2 , there are 4 true over 5 prediction \nPourcentage CLASS 0 ==> 0.8333333333333334\nPourcentage CLASS 1 ==> 1.0\nPourcentage CLASS 2 ==> 0.8\nPourcentage TOTAL ==> 0.8888888888888888\n-------------------------------------------------------\nK=8 partition n=4 \nsize of dataset test=18\n[72,90]\nsize of dataset train= 132\n---\nK=8 partition n=4\nthere are 15 true over 18 prediction \nCLASS 0 , there are 5 true over 5 prediction \nCLASS 1 , there are 9 true over 9 prediction \nCLASS 2 , there are 1 true over 4 prediction \nPourcentage CLASS 0 ==> 1.0\nPourcentage CLASS 1 ==> 1.0\nPourcentage CLASS 2 ==> 0.25\nPourcentage TOTAL ==> 0.8333333333333334\n-------------------------------------------------------\nK=8 partition n=5 \nsize of dataset test=18\n[90,108]\nsize of dataset train= 132\n---\nK=8 partition n=5\nthere are 13 true over 18 prediction \nCLASS 0 , there are 6 true over 6 prediction \nCLASS 1 , there are 4 true over 4 prediction \nCLASS 2 , there are 3 true over 8 prediction \nPourcentage CLASS 0 ==> 1.0\nPourcentage CLASS 1 ==> 1.0\nPourcentage CLASS 2 ==> 0.375\nPourcentage TOTAL ==> 0.7222222222222222\n-------------------------------------------------------\nK=8 partition n=6 \nsize of dataset test=18\n[108,126]\nsize of dataset train= 132\n---\nK=8 partition n=6\nthere are 16 true over 18 prediction \nCLASS 0 , there are 5 true over 5 prediction \nCLASS 1 , there are 6 true over 6 prediction \nCLASS 2 , there are 5 true over 7 prediction \nPourcentage CLASS 0 ==> 1.0\nPourcentage CLASS 1 ==> 1.0\nPourcentage CLASS 2 ==> 0.7142857142857143\nPourcentage TOTAL ==> 0.8888888888888888\n-------------------------------------------------------\nK=8 partition n=7 \nsize of dataset test=24\n[126,150]\nsize of dataset train= 125\n---\nK=8 partition n=7\nthere are 19 true over 24 prediction \nCLASS 0 , there are 7 true over 9 prediction \nCLASS 1 , there are 10 true over 10 prediction \nCLASS 2 , there are 2 true over 5 prediction \nPourcentage CLASS 0 ==> 0.7777777777777778\nPourcentage CLASS 1 ==> 1.0\nPourcentage CLASS 2 ==> 0.4\nPourcentage TOTAL ==> 0.7916666666666666\n-------------------------------------------------------\nK=9 partition n=0 \nsize of dataset test=16\n[0,16]\nsize of dataset train= 134\n---\nK=9 partition n=0\nthere are 10 true over 16 prediction \nCLASS 0 , there are 4 true over 4 prediction \nCLASS 1 , there are 4 true over 5 prediction \nCLASS 2 , there are 2 true over 7 prediction \nPourcentage CLASS 0 ==> 1.0\nPourcentage CLASS 1 ==> 0.8\nPourcentage CLASS 2 ==> 0.2857142857142857\nPourcentage TOTAL ==> 0.625\n-------------------------------------------------------\nK=9 partition n=1 \nsize of dataset test=16\n[16,32]\nsize of dataset train= 134\n---\nK=9 partition n=1\nthere are 13 true over 16 prediction \nCLASS 0 , there are 5 true over 8 prediction \nCLASS 1 , there are 3 true over 3 prediction \nCLASS 2 , there are 5 true over 5 prediction \nPourcentage CLASS 0 ==> 0.625\nPourcentage CLASS 1 ==> 1.0\nPourcentage CLASS 2 ==> 1.0\nPourcentage TOTAL ==> 0.8125\n-------------------------------------------------------\nK=9 partition n=2 \nsize of dataset test=16\n[32,48]\nsize of dataset train= 134\n---\nK=9 partition n=2\nthere are 13 true over 16 prediction \nCLASS 0 , there are 4 true over 5 prediction \nCLASS 1 , there are 4 true over 4 prediction \nCLASS 2 , there are 5 true over 7 prediction \nPourcentage CLASS 0 ==> 0.8\nPourcentage CLASS 1 ==> 1.0\nPourcentage CLASS 2 ==> 0.7142857142857143\nPourcentage TOTAL ==> 0.8125\n-------------------------------------------------------\nK=9 partition n=3 \nsize of dataset test=16\n[48,64]\nsize of dataset train= 134\n---\nK=9 partition n=3\nthere are 13 true over 16 prediction \nCLASS 0 , there are 4 true over 5 prediction \nCLASS 1 , there are 6 true over 6 prediction \nCLASS 2 , there are 3 true over 5 prediction \nPourcentage CLASS 0 ==> 0.8\nPourcentage CLASS 1 ==> 1.0\nPourcentage CLASS 2 ==> 0.6\nPourcentage TOTAL ==> 0.8125\n-------------------------------------------------------\nK=9 partition n=4 \nsize of dataset test=16\n[64,80]\nsize of dataset train= 134\n---\nK=9 partition n=4\nthere are 11 true over 16 prediction \nCLASS 0 , there are 3 true over 4 prediction \nCLASS 1 , there are 7 true over 7 prediction \nCLASS 2 , there are 1 true over 5 prediction \nPourcentage CLASS 0 ==> 0.75\nPourcentage CLASS 1 ==> 1.0\nPourcentage CLASS 2 ==> 0.2\nPourcentage TOTAL ==> 0.6875\n-------------------------------------------------------\nK=9 partition n=5 \nsize of dataset test=16\n[80,96]\nsize of dataset train= 134\n---\nK=9 partition n=5\nthere are 15 true over 16 prediction \nCLASS 0 , there are 6 true over 6 prediction \nCLASS 1 , there are 7 true over 7 prediction \nCLASS 2 , there are 2 true over 3 prediction \nPourcentage CLASS 0 ==> 1.0\nPourcentage CLASS 1 ==> 1.0\nPourcentage CLASS 2 ==> 0.6666666666666666\nPourcentage TOTAL ==> 0.9375\n-------------------------------------------------------\nK=9 partition n=6 \nsize of dataset test=16\n[96,112]\nsize of dataset train= 134\n---\nK=9 partition n=6\nthere are 11 true over 16 prediction \nCLASS 0 , there are 6 true over 6 prediction \nCLASS 1 , there are 2 true over 2 prediction \nCLASS 2 , there are 3 true over 8 prediction \nPourcentage CLASS 0 ==> 1.0\nPourcentage CLASS 1 ==> 1.0\nPourcentage CLASS 2 ==> 0.375\nPourcentage TOTAL ==> 0.6875\n-------------------------------------------------------\nK=9 partition n=7 \nsize of dataset test=16\n[112,128]\nsize of dataset train= 134\n---\nK=9 partition n=7\nthere are 13 true over 16 prediction \nCLASS 0 , there are 3 true over 3 prediction \nCLASS 1 , there are 7 true over 7 prediction \nCLASS 2 , there are 3 true over 6 prediction \nPourcentage CLASS 0 ==> 1.0\nPourcentage CLASS 1 ==> 1.0\nPourcentage CLASS 2 ==> 0.5\nPourcentage TOTAL ==> 0.8125\n-------------------------------------------------------\nK=9 partition n=8 \nsize of dataset test=22\n[128,150]\nsize of dataset train= 127\n---\nK=9 partition n=8\nthere are 18 true over 22 prediction \nCLASS 0 , there are 7 true over 9 prediction \nCLASS 1 , there are 9 true over 9 prediction \nCLASS 2 , there are 2 true over 4 prediction \nPourcentage CLASS 0 ==> 0.7777777777777778\nPourcentage CLASS 1 ==> 1.0\nPourcentage CLASS 2 ==> 0.5\nPourcentage TOTAL ==> 0.8181818181818182\n-------------------------------------------------------\n"
     ]
    }
   ],
   "source": [
    "filename = 'iris.csv'\n",
    "dataset = load_csv(filename)\n",
    "dataset_shuffle =[]\n",
    "for j in range(len(dataset[0])-1):\n",
    "\tconvert_str_column_to_float(dataset, j)\n",
    "# convert class column to integers\n",
    "str_column_to_int(dataset, len(dataset[0])-1)\n",
    "dataset_shuffle = random.sample(dataset, len(dataset))\n",
    "\n",
    "for k in range(2,10):\t\n",
    "\tcross_validation(dataset_shuffle,k)\n",
    "\n"
   ]
  },
  {
   "cell_type": "code",
   "execution_count": null,
   "metadata": {},
   "outputs": [],
   "source": []
  }
 ],
 "metadata": {
  "kernelspec": {
   "name": "python3",
   "display_name": "Python 3.9.0 64-bit",
   "metadata": {
    "interpreter": {
     "hash": "d65f8af9b1347936d5c0a715a1a101b7602968bee42a1bc2161adfc924f1cbb0"
    }
   }
  },
  "language_info": {
   "codemirror_mode": {
    "name": "ipython",
    "version": 3
   },
   "file_extension": ".py",
   "mimetype": "text/x-python",
   "name": "python",
   "nbconvert_exporter": "python",
   "pygments_lexer": "ipython3",
   "version": "3.9.0-final"
  }
 },
 "nbformat": 4,
 "nbformat_minor": 4
}